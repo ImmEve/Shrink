{
 "cells": [
  {
   "cell_type": "code",
   "execution_count": 4,
   "source": [
    "from src.finger_match.match_alg import Match_alg\n",
    "\n",
    "offline_audio_thd = 700000\n",
    "\n",
    "match_alg = Match_alg('D:/project/quic_video_clawer/data/fingerprint/online.csv',\n",
    "                      'D:/project/quic_video_clawer/data/fingerprint/finger.csv', offline_audio_thd)\n",
    "match_alg.P_dtw()\n",
    "all_count, true_count, acc = match_alg.pred_performance()\n",
    "print('{},{},{}'.format(all_count, true_count, acc))"
   ],
   "metadata": {
    "collapsed": false,
    "ExecuteTime": {
     "end_time": "2023-06-11T12:21:48.960255700Z",
     "start_time": "2023-06-11T12:21:30.502579600Z"
    }
   },
   "outputs": []
  },
  {
   "cell_type": "code",
   "execution_count": 5,
   "source": [
    "result_Wu = []\n",
    "for i in range(3, 31):\n",
    "    match_alg = Match_alg('D:/project/quic_video_clawer/data/fingerprint/online.csv',\n",
    "                          'D:/project/quic_video_clawer/data/fingerprint/finger.csv', offline_audio_thd)\n",
    "    online_short_count = match_alg.slide_wind(i)\n",
    "    all_count, true_count, acc = match_alg.pred_performance()\n",
    "    result_Wu.append([i, all_count, true_count, acc])"
   ],
   "metadata": {
    "collapsed": false,
    "ExecuteTime": {
     "end_time": "2023-06-11T12:22:23.717442700Z",
     "start_time": "2023-06-11T12:21:48.962256Z"
    }
   },
   "outputs": []
  },
  {
   "cell_type": "code",
   "execution_count": 6,
   "source": [
    "result_Yang = []\n",
    "bin_count = [k for k in range(1, 201, 10)]\n",
    "for i in bin_count:\n",
    "    for j in range(1, 31, 1):\n",
    "        for k in range(1, 30, 1):\n",
    "            # for k in win_size:\n",
    "            match_alg = Match_alg('D:/project/quic_video_clawer/data/fingerprint/online.csv',\n",
    "                                  'D:/project/quic_video_clawer/data/fingerprint/finger.csv', offline_audio_thd)\n",
    "            # match_alg.slide_wind(10)\n",
    "            error_count, online_short_count = match_alg.markov_hight_order(bins_count=i, orders=j, win_size=k)\n",
    "            all_count, true_count, acc = match_alg.pred_performance()\n",
    "            result_Yang.append([i, j, k, error_count, online_short_count, all_count, true_count, acc, true_count / (error_count + all_count)])"
   ],
   "metadata": {
    "collapsed": false,
    "ExecuteTime": {
     "end_time": "2023-06-11T12:41:49.311749500Z",
     "start_time": "2023-06-11T12:22:23.719443200Z"
    }
   },
   "outputs": []
  },
  {
   "cell_type": "code",
   "execution_count": 12,
   "source": [
    "tmp = [i[8] for i in result_Yang]\n",
    "result_Yang_max = max(tmp)\n",
    "result_Yang_index = [i for i, x in enumerate(result_Yang) if x[8] == result_Yang_max]\n",
    "a = result_Yang[result_Yang_index[0]]\n",
    "b = result_Yang[result_Yang_index[1]]\n",
    "c = result_Yang[result_Yang_index[2]]\n",
    "d = result_Yang[result_Yang_index[3]]\n",
    "e = result_Yang[result_Yang_index[4]]\n",
    "tmp = list(set(tmp))\n",
    "tmp.sort()\n",
    "tmp.reverse()"
   ],
   "metadata": {
    "collapsed": false,
    "ExecuteTime": {
     "end_time": "2023-06-11T14:51:01.379574900Z",
     "start_time": "2023-06-11T14:51:01.337445400Z"
    }
   },
   "outputs": []
  }
 ],
 "metadata": {
  "kernelspec": {
   "display_name": "Python 3",
   "language": "python",
   "name": "python3"
  },
  "language_info": {
   "codemirror_mode": {
    "name": "ipython",
    "version": 2
   },
   "file_extension": ".py",
   "mimetype": "text/x-python",
   "name": "python",
   "nbconvert_exporter": "python",
   "pygments_lexer": "ipython2",
   "version": "2.7.6"
  }
 },
 "nbformat": 4,
 "nbformat_minor": 0
}
